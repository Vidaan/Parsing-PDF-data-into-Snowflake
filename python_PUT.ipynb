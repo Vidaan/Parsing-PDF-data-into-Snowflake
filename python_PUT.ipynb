{
 "cells": [
  {
   "cell_type": "code",
   "execution_count": 1,
   "metadata": {},
   "outputs": [],
   "source": [
    "import snowflake.connector"
   ]
  },
  {
   "cell_type": "code",
   "execution_count": 8,
   "metadata": {},
   "outputs": [],
   "source": [
    "conn = snowflake.connector.connect(\n",
    "    user='TESTSNOWFLAKE',\n",
    "    password='Password1234',\n",
    "    account='LYQUCPG-myb50689',\n",
    "    warehouse='COMPUTE_WH',\n",
    "    database='TEST_DB',\n",
    "    schema='TEST_SCH'\n",
    "    )"
   ]
  },
  {
   "cell_type": "code",
   "execution_count": 10,
   "metadata": {},
   "outputs": [
    {
     "data": {
      "text/plain": [
       "<snowflake.connector.cursor.SnowflakeCursor at 0x2113e8ee510>"
      ]
     },
     "execution_count": 10,
     "metadata": {},
     "output_type": "execute_result"
    }
   ],
   "source": [
    "conn.cursor().execute(\n",
    "    '''\n",
    "    PUT 'file://V:/projects/snowflake_parse_pdf/customer_docs/*.pdf' @TEST_DB.TEST_SCH.customer_info \n",
    "    AUTO_COMPRESS = FALSE;\n",
    "    '''\n",
    ")"
   ]
  }
 ],
 "metadata": {
  "kernelspec": {
   "display_name": "my_env",
   "language": "python",
   "name": "python3"
  },
  "language_info": {
   "codemirror_mode": {
    "name": "ipython",
    "version": 3
   },
   "file_extension": ".py",
   "mimetype": "text/x-python",
   "name": "python",
   "nbconvert_exporter": "python",
   "pygments_lexer": "ipython3",
   "version": "3.12.2"
  }
 },
 "nbformat": 4,
 "nbformat_minor": 2
}
